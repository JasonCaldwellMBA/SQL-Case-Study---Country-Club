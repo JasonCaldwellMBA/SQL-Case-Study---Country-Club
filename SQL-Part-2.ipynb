{
 "cells": [
  {
   "cell_type": "markdown",
   "metadata": {},
   "source": [
    "## Load Data"
   ]
  },
  {
   "cell_type": "code",
   "execution_count": 1,
   "metadata": {},
   "outputs": [
    {
     "name": "stdout",
     "output_type": "stream",
     "text": [
      "2.6.0\n",
      "2. Query all tasks\n",
      "(0, 'Tennis Court 1', 5, 25, 10000, 200)\n",
      "(1, 'Tennis Court 2', 5, 25, 8000, 200)\n",
      "(2, 'Badminton Court', 0, 15.5, 4000, 50)\n",
      "(3, 'Table Tennis', 0, 5, 320, 10)\n",
      "(4, 'Massage Room 1', 9.9, 80, 4000, 3000)\n",
      "(5, 'Massage Room 2', 9.9, 80, 4000, 3000)\n",
      "(6, 'Squash Court', 3.5, 17.5, 5000, 80)\n",
      "(7, 'Snooker Table', 0, 5, 450, 15)\n",
      "(8, 'Pool Table', 0, 5, 400, 15)\n"
     ]
    }
   ],
   "source": [
    "import sqlite3\n",
    "from sqlite3 import Error\n",
    "\n",
    " \n",
    "def create_connection(db_file):\n",
    "    \"\"\" create a database connection to the SQLite database\n",
    "        specified by the db_file\n",
    "    :param db_file: database file\n",
    "    :return: Connection object or None\n",
    "    \"\"\"\n",
    "    conn = None\n",
    "    try:\n",
    "        conn = sqlite3.connect(db_file)\n",
    "        print(sqlite3.version)\n",
    "    except Error as e:\n",
    "        print(e)\n",
    " \n",
    "    return conn\n",
    "\n",
    " \n",
    "def select_all_tasks(conn):\n",
    "    \"\"\"\n",
    "    Query all rows in the tasks table\n",
    "    :param conn: the Connection object\n",
    "    :return:\n",
    "    \"\"\"\n",
    "    cur = conn.cursor()\n",
    "    \n",
    "    query1 = \"\"\"\n",
    "        SELECT *\n",
    "        FROM FACILITIES\n",
    "        \"\"\"\n",
    "    cur.execute(query1)\n",
    " \n",
    "    rows = cur.fetchall()\n",
    " \n",
    "    for row in rows:\n",
    "        print(row)\n",
    "\n",
    "\n",
    "def main():\n",
    "    database = \"sqlite_db_pythonsqlite.db\"\n",
    " \n",
    "    # create a database connection\n",
    "    conn = create_connection(database)\n",
    "    with conn: \n",
    "        print(\"2. Query all tasks\")\n",
    "        select_all_tasks(conn)\n",
    " \n",
    " \n",
    "if __name__ == '__main__':\n",
    "    main()"
   ]
  },
  {
   "cell_type": "markdown",
   "metadata": {},
   "source": [
    "The example above is a traditional way to connect to a database through code. Below, is a different way used for notebooks."
   ]
  },
  {
   "cell_type": "code",
   "execution_count": 75,
   "metadata": {},
   "outputs": [],
   "source": [
    "# !pip install ipython-sql"
   ]
  },
  {
   "cell_type": "code",
   "execution_count": 1,
   "metadata": {},
   "outputs": [],
   "source": [
    "%load_ext sql"
   ]
  },
  {
   "cell_type": "code",
   "execution_count": 2,
   "metadata": {},
   "outputs": [],
   "source": [
    "%sql sqlite:///sqlite_db_pythonsqlite.db"
   ]
  },
  {
   "cell_type": "markdown",
   "metadata": {},
   "source": [
    "## Examine Data"
   ]
  },
  {
   "cell_type": "code",
   "execution_count": 12,
   "metadata": {},
   "outputs": [
    {
     "name": "stdout",
     "output_type": "stream",
     "text": [
      " * sqlite:///sqlite_db_pythonsqlite.db\n",
      "Done.\n"
     ]
    },
    {
     "data": {
      "text/html": [
       "<table>\n",
       "    <tr>\n",
       "        <th>bookid</th>\n",
       "        <th>facid</th>\n",
       "        <th>memid</th>\n",
       "        <th>starttime</th>\n",
       "        <th>slots</th>\n",
       "    </tr>\n",
       "    <tr>\n",
       "        <td>0</td>\n",
       "        <td>3</td>\n",
       "        <td>1</td>\n",
       "        <td>2012-07-03 11:00:00</td>\n",
       "        <td>2</td>\n",
       "    </tr>\n",
       "    <tr>\n",
       "        <td>1</td>\n",
       "        <td>4</td>\n",
       "        <td>1</td>\n",
       "        <td>2012-07-03 08:00:00</td>\n",
       "        <td>2</td>\n",
       "    </tr>\n",
       "    <tr>\n",
       "        <td>2</td>\n",
       "        <td>6</td>\n",
       "        <td>0</td>\n",
       "        <td>2012-07-03 18:00:00</td>\n",
       "        <td>2</td>\n",
       "    </tr>\n",
       "    <tr>\n",
       "        <td>3</td>\n",
       "        <td>7</td>\n",
       "        <td>1</td>\n",
       "        <td>2012-07-03 19:00:00</td>\n",
       "        <td>2</td>\n",
       "    </tr>\n",
       "    <tr>\n",
       "        <td>4</td>\n",
       "        <td>8</td>\n",
       "        <td>1</td>\n",
       "        <td>2012-07-03 10:00:00</td>\n",
       "        <td>1</td>\n",
       "    </tr>\n",
       "    <tr>\n",
       "        <td>5</td>\n",
       "        <td>8</td>\n",
       "        <td>1</td>\n",
       "        <td>2012-07-03 15:00:00</td>\n",
       "        <td>1</td>\n",
       "    </tr>\n",
       "    <tr>\n",
       "        <td>6</td>\n",
       "        <td>0</td>\n",
       "        <td>2</td>\n",
       "        <td>2012-07-04 09:00:00</td>\n",
       "        <td>3</td>\n",
       "    </tr>\n",
       "    <tr>\n",
       "        <td>7</td>\n",
       "        <td>0</td>\n",
       "        <td>2</td>\n",
       "        <td>2012-07-04 15:00:00</td>\n",
       "        <td>3</td>\n",
       "    </tr>\n",
       "    <tr>\n",
       "        <td>8</td>\n",
       "        <td>4</td>\n",
       "        <td>3</td>\n",
       "        <td>2012-07-04 13:30:00</td>\n",
       "        <td>2</td>\n",
       "    </tr>\n",
       "    <tr>\n",
       "        <td>9</td>\n",
       "        <td>4</td>\n",
       "        <td>0</td>\n",
       "        <td>2012-07-04 15:00:00</td>\n",
       "        <td>2</td>\n",
       "    </tr>\n",
       "</table>"
      ],
      "text/plain": [
       "[(0, 3, 1, '2012-07-03 11:00:00', 2),\n",
       " (1, 4, 1, '2012-07-03 08:00:00', 2),\n",
       " (2, 6, 0, '2012-07-03 18:00:00', 2),\n",
       " (3, 7, 1, '2012-07-03 19:00:00', 2),\n",
       " (4, 8, 1, '2012-07-03 10:00:00', 1),\n",
       " (5, 8, 1, '2012-07-03 15:00:00', 1),\n",
       " (6, 0, 2, '2012-07-04 09:00:00', 3),\n",
       " (7, 0, 2, '2012-07-04 15:00:00', 3),\n",
       " (8, 4, 3, '2012-07-04 13:30:00', 2),\n",
       " (9, 4, 0, '2012-07-04 15:00:00', 2)]"
      ]
     },
     "execution_count": 12,
     "metadata": {},
     "output_type": "execute_result"
    }
   ],
   "source": [
    "%%sql\n",
    "SELECT *\n",
    "FROM Bookings\n",
    "LIMIT 10;"
   ]
  },
  {
   "cell_type": "code",
   "execution_count": 14,
   "metadata": {},
   "outputs": [
    {
     "name": "stdout",
     "output_type": "stream",
     "text": [
      " * sqlite:///sqlite_db_pythonsqlite.db\n",
      "Done.\n"
     ]
    },
    {
     "data": {
      "text/html": [
       "<table>\n",
       "    <tr>\n",
       "        <th>facid</th>\n",
       "        <th>name</th>\n",
       "        <th>membercost</th>\n",
       "        <th>guestcost</th>\n",
       "        <th>initialoutlay</th>\n",
       "        <th>monthlymaintenance</th>\n",
       "    </tr>\n",
       "    <tr>\n",
       "        <td>0</td>\n",
       "        <td>Tennis Court 1</td>\n",
       "        <td>5</td>\n",
       "        <td>25</td>\n",
       "        <td>10000</td>\n",
       "        <td>200</td>\n",
       "    </tr>\n",
       "    <tr>\n",
       "        <td>1</td>\n",
       "        <td>Tennis Court 2</td>\n",
       "        <td>5</td>\n",
       "        <td>25</td>\n",
       "        <td>8000</td>\n",
       "        <td>200</td>\n",
       "    </tr>\n",
       "    <tr>\n",
       "        <td>2</td>\n",
       "        <td>Badminton Court</td>\n",
       "        <td>0</td>\n",
       "        <td>15.5</td>\n",
       "        <td>4000</td>\n",
       "        <td>50</td>\n",
       "    </tr>\n",
       "    <tr>\n",
       "        <td>3</td>\n",
       "        <td>Table Tennis</td>\n",
       "        <td>0</td>\n",
       "        <td>5</td>\n",
       "        <td>320</td>\n",
       "        <td>10</td>\n",
       "    </tr>\n",
       "    <tr>\n",
       "        <td>4</td>\n",
       "        <td>Massage Room 1</td>\n",
       "        <td>9.9</td>\n",
       "        <td>80</td>\n",
       "        <td>4000</td>\n",
       "        <td>3000</td>\n",
       "    </tr>\n",
       "    <tr>\n",
       "        <td>5</td>\n",
       "        <td>Massage Room 2</td>\n",
       "        <td>9.9</td>\n",
       "        <td>80</td>\n",
       "        <td>4000</td>\n",
       "        <td>3000</td>\n",
       "    </tr>\n",
       "    <tr>\n",
       "        <td>6</td>\n",
       "        <td>Squash Court</td>\n",
       "        <td>3.5</td>\n",
       "        <td>17.5</td>\n",
       "        <td>5000</td>\n",
       "        <td>80</td>\n",
       "    </tr>\n",
       "    <tr>\n",
       "        <td>7</td>\n",
       "        <td>Snooker Table</td>\n",
       "        <td>0</td>\n",
       "        <td>5</td>\n",
       "        <td>450</td>\n",
       "        <td>15</td>\n",
       "    </tr>\n",
       "    <tr>\n",
       "        <td>8</td>\n",
       "        <td>Pool Table</td>\n",
       "        <td>0</td>\n",
       "        <td>5</td>\n",
       "        <td>400</td>\n",
       "        <td>15</td>\n",
       "    </tr>\n",
       "</table>"
      ],
      "text/plain": [
       "[(0, 'Tennis Court 1', 5, 25, 10000, 200),\n",
       " (1, 'Tennis Court 2', 5, 25, 8000, 200),\n",
       " (2, 'Badminton Court', 0, 15.5, 4000, 50),\n",
       " (3, 'Table Tennis', 0, 5, 320, 10),\n",
       " (4, 'Massage Room 1', 9.9, 80, 4000, 3000),\n",
       " (5, 'Massage Room 2', 9.9, 80, 4000, 3000),\n",
       " (6, 'Squash Court', 3.5, 17.5, 5000, 80),\n",
       " (7, 'Snooker Table', 0, 5, 450, 15),\n",
       " (8, 'Pool Table', 0, 5, 400, 15)]"
      ]
     },
     "execution_count": 14,
     "metadata": {},
     "output_type": "execute_result"
    }
   ],
   "source": [
    "%%sql\n",
    "SELECT *\n",
    "FROM Facilities\n",
    "LIMIT 10;"
   ]
  },
  {
   "cell_type": "code",
   "execution_count": 17,
   "metadata": {},
   "outputs": [
    {
     "name": "stdout",
     "output_type": "stream",
     "text": [
      " * sqlite:///sqlite_db_pythonsqlite.db\n",
      "Done.\n"
     ]
    },
    {
     "data": {
      "text/html": [
       "<table>\n",
       "    <tr>\n",
       "        <th>memid</th>\n",
       "        <th>surname</th>\n",
       "        <th>firstname</th>\n",
       "        <th>address</th>\n",
       "        <th>zipcode</th>\n",
       "        <th>telephone</th>\n",
       "        <th>recommendedby</th>\n",
       "        <th>joindate</th>\n",
       "    </tr>\n",
       "    <tr>\n",
       "        <td>0</td>\n",
       "        <td>GUEST</td>\n",
       "        <td>GUEST</td>\n",
       "        <td>GUEST</td>\n",
       "        <td>0</td>\n",
       "        <td>(000) 000-0000</td>\n",
       "        <td></td>\n",
       "        <td>2012-07-01 00:00:00</td>\n",
       "    </tr>\n",
       "    <tr>\n",
       "        <td>1</td>\n",
       "        <td>Smith</td>\n",
       "        <td>Darren</td>\n",
       "        <td>8 Bloomsbury Close, Boston</td>\n",
       "        <td>4321</td>\n",
       "        <td>555-555-5555</td>\n",
       "        <td></td>\n",
       "        <td>2012-07-02 12:02:05</td>\n",
       "    </tr>\n",
       "    <tr>\n",
       "        <td>2</td>\n",
       "        <td>Smith</td>\n",
       "        <td>Tracy</td>\n",
       "        <td>8 Bloomsbury Close, New York</td>\n",
       "        <td>4321</td>\n",
       "        <td>555-555-5555</td>\n",
       "        <td></td>\n",
       "        <td>2012-07-02 12:08:23</td>\n",
       "    </tr>\n",
       "    <tr>\n",
       "        <td>3</td>\n",
       "        <td>Rownam</td>\n",
       "        <td>Tim</td>\n",
       "        <td>23 Highway Way, Boston</td>\n",
       "        <td>23423</td>\n",
       "        <td>(844) 693-0723</td>\n",
       "        <td></td>\n",
       "        <td>2012-07-03 09:32:15</td>\n",
       "    </tr>\n",
       "    <tr>\n",
       "        <td>4</td>\n",
       "        <td>Joplette</td>\n",
       "        <td>Janice</td>\n",
       "        <td>20 Crossing Road, New York</td>\n",
       "        <td>234</td>\n",
       "        <td>(833) 942-4710</td>\n",
       "        <td>1</td>\n",
       "        <td>2012-07-03 10:25:05</td>\n",
       "    </tr>\n",
       "    <tr>\n",
       "        <td>5</td>\n",
       "        <td>Butters</td>\n",
       "        <td>Gerald</td>\n",
       "        <td>1065 Huntingdon Avenue, Boston</td>\n",
       "        <td>56754</td>\n",
       "        <td>(844) 078-4130</td>\n",
       "        <td>1</td>\n",
       "        <td>2012-07-09 10:44:09</td>\n",
       "    </tr>\n",
       "    <tr>\n",
       "        <td>6</td>\n",
       "        <td>Tracy</td>\n",
       "        <td>Burton</td>\n",
       "        <td>3 Tunisia Drive, Boston</td>\n",
       "        <td>45678</td>\n",
       "        <td>(822) 354-9973</td>\n",
       "        <td></td>\n",
       "        <td>2012-07-15 08:52:55</td>\n",
       "    </tr>\n",
       "    <tr>\n",
       "        <td>7</td>\n",
       "        <td>Dare</td>\n",
       "        <td>Nancy</td>\n",
       "        <td>6 Hunting Lodge Way, Boston</td>\n",
       "        <td>10383</td>\n",
       "        <td>(833) 776-4001</td>\n",
       "        <td>4</td>\n",
       "        <td>2012-07-25 08:59:12</td>\n",
       "    </tr>\n",
       "    <tr>\n",
       "        <td>8</td>\n",
       "        <td>Boothe</td>\n",
       "        <td>Tim</td>\n",
       "        <td>3 Bloomsbury Close, Reading, 00234</td>\n",
       "        <td>234</td>\n",
       "        <td>(811) 433-2547</td>\n",
       "        <td>3</td>\n",
       "        <td>2012-07-25 16:02:35</td>\n",
       "    </tr>\n",
       "    <tr>\n",
       "        <td>9</td>\n",
       "        <td>Stibbons</td>\n",
       "        <td>Ponder</td>\n",
       "        <td>5 Dragons Way, Winchester</td>\n",
       "        <td>87630</td>\n",
       "        <td>(833) 160-3900</td>\n",
       "        <td>6</td>\n",
       "        <td>2012-07-25 17:09:05</td>\n",
       "    </tr>\n",
       "</table>"
      ],
      "text/plain": [
       "[(0, 'GUEST', 'GUEST', 'GUEST', 0, '(000) 000-0000', '', '2012-07-01 00:00:00'),\n",
       " (1, 'Smith', 'Darren', '8 Bloomsbury Close, Boston', 4321, '555-555-5555', '', '2012-07-02 12:02:05'),\n",
       " (2, 'Smith', 'Tracy', '8 Bloomsbury Close, New York', 4321, '555-555-5555', '', '2012-07-02 12:08:23'),\n",
       " (3, 'Rownam', 'Tim', '23 Highway Way, Boston', 23423, '(844) 693-0723', '', '2012-07-03 09:32:15'),\n",
       " (4, 'Joplette', 'Janice', '20 Crossing Road, New York', 234, '(833) 942-4710', '1', '2012-07-03 10:25:05'),\n",
       " (5, 'Butters', 'Gerald', '1065 Huntingdon Avenue, Boston', 56754, '(844) 078-4130', '1', '2012-07-09 10:44:09'),\n",
       " (6, 'Tracy', 'Burton', '3 Tunisia Drive, Boston', 45678, '(822) 354-9973', '', '2012-07-15 08:52:55'),\n",
       " (7, 'Dare', 'Nancy', '6 Hunting Lodge Way, Boston', 10383, '(833) 776-4001', '4', '2012-07-25 08:59:12'),\n",
       " (8, 'Boothe', 'Tim', '3 Bloomsbury Close, Reading, 00234', 234, '(811) 433-2547', '3', '2012-07-25 16:02:35'),\n",
       " (9, 'Stibbons', 'Ponder', '5 Dragons Way, Winchester', 87630, '(833) 160-3900', '6', '2012-07-25 17:09:05')]"
      ]
     },
     "execution_count": 17,
     "metadata": {},
     "output_type": "execute_result"
    }
   ],
   "source": [
    "%%sql\n",
    "SELECT *\n",
    "FROM Members\n",
    "LIMIT 10;"
   ]
  },
  {
   "cell_type": "markdown",
   "metadata": {},
   "source": [
    "## QUESTIONS"
   ]
  },
  {
   "cell_type": "markdown",
   "metadata": {},
   "source": [
    "Q1: Some of the facilities charge a fee to members, but some do not.\n",
    "Write a SQL query to produce a list of the names of the facilities that do."
   ]
  },
  {
   "cell_type": "code",
   "execution_count": 79,
   "metadata": {},
   "outputs": [
    {
     "name": "stdout",
     "output_type": "stream",
     "text": [
      " * sqlite:///sqlite_db_pythonsqlite.db\n",
      "Done.\n"
     ]
    },
    {
     "data": {
      "text/html": [
       "<table>\n",
       "    <tr>\n",
       "        <th>name</th>\n",
       "    </tr>\n",
       "    <tr>\n",
       "        <td>Tennis Court 1</td>\n",
       "    </tr>\n",
       "    <tr>\n",
       "        <td>Tennis Court 2</td>\n",
       "    </tr>\n",
       "    <tr>\n",
       "        <td>Massage Room 1</td>\n",
       "    </tr>\n",
       "    <tr>\n",
       "        <td>Massage Room 2</td>\n",
       "    </tr>\n",
       "    <tr>\n",
       "        <td>Squash Court</td>\n",
       "    </tr>\n",
       "</table>"
      ],
      "text/plain": [
       "[('Tennis Court 1',),\n",
       " ('Tennis Court 2',),\n",
       " ('Massage Room 1',),\n",
       " ('Massage Room 2',),\n",
       " ('Squash Court',)]"
      ]
     },
     "execution_count": 79,
     "metadata": {},
     "output_type": "execute_result"
    }
   ],
   "source": [
    "%%sql\n",
    "SELECT name\n",
    "FROM Facilities\n",
    "WHERE MemberCost > 0"
   ]
  },
  {
   "cell_type": "markdown",
   "metadata": {},
   "source": [
    "Q2: How many facilities do not charge a fee to members?"
   ]
  },
  {
   "cell_type": "code",
   "execution_count": 81,
   "metadata": {},
   "outputs": [
    {
     "name": "stdout",
     "output_type": "stream",
     "text": [
      " * sqlite:///sqlite_db_pythonsqlite.db\n",
      "Done.\n"
     ]
    },
    {
     "data": {
      "text/html": [
       "<table>\n",
       "    <tr>\n",
       "        <th>no_fee</th>\n",
       "    </tr>\n",
       "    <tr>\n",
       "        <td>4</td>\n",
       "    </tr>\n",
       "</table>"
      ],
      "text/plain": [
       "[(4,)]"
      ]
     },
     "execution_count": 81,
     "metadata": {},
     "output_type": "execute_result"
    }
   ],
   "source": [
    "%%sql\n",
    "SELECT Count(*) as no_fee\n",
    "FROM Facilities\n",
    "WHERE MemberCost = 0"
   ]
  },
  {
   "cell_type": "markdown",
   "metadata": {},
   "source": [
    "Q3: Write an SQL query to show a list of facilities that charge a fee to members,\n",
    "where the fee is less than 20% of the facility's monthly maintenance cost.\n",
    "Return the facid, facility name, member cost, and monthly maintenance of the\n",
    "facilities in question.\n",
    "\n",
    "All of them (9)."
   ]
  },
  {
   "cell_type": "code",
   "execution_count": 82,
   "metadata": {},
   "outputs": [
    {
     "name": "stdout",
     "output_type": "stream",
     "text": [
      " * sqlite:///sqlite_db_pythonsqlite.db\n",
      "Done.\n"
     ]
    },
    {
     "data": {
      "text/html": [
       "<table>\n",
       "    <tr>\n",
       "        <th>facid</th>\n",
       "        <th>name</th>\n",
       "        <th>membercost</th>\n",
       "        <th>monthlymaintenance</th>\n",
       "    </tr>\n",
       "    <tr>\n",
       "        <td>0</td>\n",
       "        <td>Tennis Court 1</td>\n",
       "        <td>5</td>\n",
       "        <td>200</td>\n",
       "    </tr>\n",
       "    <tr>\n",
       "        <td>1</td>\n",
       "        <td>Tennis Court 2</td>\n",
       "        <td>5</td>\n",
       "        <td>200</td>\n",
       "    </tr>\n",
       "    <tr>\n",
       "        <td>2</td>\n",
       "        <td>Badminton Court</td>\n",
       "        <td>0</td>\n",
       "        <td>50</td>\n",
       "    </tr>\n",
       "    <tr>\n",
       "        <td>3</td>\n",
       "        <td>Table Tennis</td>\n",
       "        <td>0</td>\n",
       "        <td>10</td>\n",
       "    </tr>\n",
       "    <tr>\n",
       "        <td>4</td>\n",
       "        <td>Massage Room 1</td>\n",
       "        <td>9.9</td>\n",
       "        <td>3000</td>\n",
       "    </tr>\n",
       "    <tr>\n",
       "        <td>5</td>\n",
       "        <td>Massage Room 2</td>\n",
       "        <td>9.9</td>\n",
       "        <td>3000</td>\n",
       "    </tr>\n",
       "    <tr>\n",
       "        <td>6</td>\n",
       "        <td>Squash Court</td>\n",
       "        <td>3.5</td>\n",
       "        <td>80</td>\n",
       "    </tr>\n",
       "    <tr>\n",
       "        <td>7</td>\n",
       "        <td>Snooker Table</td>\n",
       "        <td>0</td>\n",
       "        <td>15</td>\n",
       "    </tr>\n",
       "    <tr>\n",
       "        <td>8</td>\n",
       "        <td>Pool Table</td>\n",
       "        <td>0</td>\n",
       "        <td>15</td>\n",
       "    </tr>\n",
       "</table>"
      ],
      "text/plain": [
       "[(0, 'Tennis Court 1', 5, 200),\n",
       " (1, 'Tennis Court 2', 5, 200),\n",
       " (2, 'Badminton Court', 0, 50),\n",
       " (3, 'Table Tennis', 0, 10),\n",
       " (4, 'Massage Room 1', 9.9, 3000),\n",
       " (5, 'Massage Room 2', 9.9, 3000),\n",
       " (6, 'Squash Court', 3.5, 80),\n",
       " (7, 'Snooker Table', 0, 15),\n",
       " (8, 'Pool Table', 0, 15)]"
      ]
     },
     "execution_count": 82,
     "metadata": {},
     "output_type": "execute_result"
    }
   ],
   "source": [
    "%%sql\n",
    "SELECT facid, name, membercost, monthlymaintenance\n",
    "FROM Facilities\n",
    "WHERE membercost < (monthlymaintenance * 0.2)"
   ]
  },
  {
   "cell_type": "markdown",
   "metadata": {},
   "source": [
    "Q4: Write an SQL query to retrieve the details of facilities with ID 1 and 5.\n",
    "Try writing the query without using the OR operator."
   ]
  },
  {
   "cell_type": "code",
   "execution_count": 83,
   "metadata": {},
   "outputs": [
    {
     "name": "stdout",
     "output_type": "stream",
     "text": [
      " * sqlite:///sqlite_db_pythonsqlite.db\n",
      "Done.\n"
     ]
    },
    {
     "data": {
      "text/html": [
       "<table>\n",
       "    <tr>\n",
       "        <th>facid</th>\n",
       "        <th>name</th>\n",
       "        <th>membercost</th>\n",
       "        <th>guestcost</th>\n",
       "        <th>initialoutlay</th>\n",
       "        <th>monthlymaintenance</th>\n",
       "    </tr>\n",
       "    <tr>\n",
       "        <td>1</td>\n",
       "        <td>Tennis Court 2</td>\n",
       "        <td>5</td>\n",
       "        <td>25</td>\n",
       "        <td>8000</td>\n",
       "        <td>200</td>\n",
       "    </tr>\n",
       "    <tr>\n",
       "        <td>5</td>\n",
       "        <td>Massage Room 2</td>\n",
       "        <td>9.9</td>\n",
       "        <td>80</td>\n",
       "        <td>4000</td>\n",
       "        <td>3000</td>\n",
       "    </tr>\n",
       "</table>"
      ],
      "text/plain": [
       "[(1, 'Tennis Court 2', 5, 25, 8000, 200),\n",
       " (5, 'Massage Room 2', 9.9, 80, 4000, 3000)]"
      ]
     },
     "execution_count": 83,
     "metadata": {},
     "output_type": "execute_result"
    }
   ],
   "source": [
    "%%sql\n",
    "SELECT *\n",
    "FROM Facilities\n",
    "WHERE facid in (1,5)"
   ]
  },
  {
   "cell_type": "markdown",
   "metadata": {},
   "source": [
    "Q5: Produce a list of facilities, with each labelled as\n",
    "'cheap' or 'expensive', depending on if their monthly maintenance cost is\n",
    "more than $100. Return the name and monthly maintenance of the facilities\n",
    "in question.\n",
    "\n",
    "Think this could have a couple different solutions. Assuming the below based off of later questions."
   ]
  },
  {
   "cell_type": "code",
   "execution_count": 84,
   "metadata": {},
   "outputs": [
    {
     "name": "stdout",
     "output_type": "stream",
     "text": [
      " * sqlite:///sqlite_db_pythonsqlite.db\n",
      "Done.\n"
     ]
    },
    {
     "data": {
      "text/html": [
       "<table>\n",
       "    <tr>\n",
       "        <th>name</th>\n",
       "        <th>monthlymaintenance</th>\n",
       "        <th>label</th>\n",
       "    </tr>\n",
       "    <tr>\n",
       "        <td>Massage Room 1</td>\n",
       "        <td>3000</td>\n",
       "        <td>expensive</td>\n",
       "    </tr>\n",
       "    <tr>\n",
       "        <td>Massage Room 2</td>\n",
       "        <td>3000</td>\n",
       "        <td>expensive</td>\n",
       "    </tr>\n",
       "    <tr>\n",
       "        <td>Tennis Court 1</td>\n",
       "        <td>200</td>\n",
       "        <td>expensive</td>\n",
       "    </tr>\n",
       "    <tr>\n",
       "        <td>Tennis Court 2</td>\n",
       "        <td>200</td>\n",
       "        <td>expensive</td>\n",
       "    </tr>\n",
       "    <tr>\n",
       "        <td>Squash Court</td>\n",
       "        <td>80</td>\n",
       "        <td>cheap</td>\n",
       "    </tr>\n",
       "    <tr>\n",
       "        <td>Badminton Court</td>\n",
       "        <td>50</td>\n",
       "        <td>cheap</td>\n",
       "    </tr>\n",
       "    <tr>\n",
       "        <td>Snooker Table</td>\n",
       "        <td>15</td>\n",
       "        <td>cheap</td>\n",
       "    </tr>\n",
       "    <tr>\n",
       "        <td>Pool Table</td>\n",
       "        <td>15</td>\n",
       "        <td>cheap</td>\n",
       "    </tr>\n",
       "    <tr>\n",
       "        <td>Table Tennis</td>\n",
       "        <td>10</td>\n",
       "        <td>cheap</td>\n",
       "    </tr>\n",
       "</table>"
      ],
      "text/plain": [
       "[('Massage Room 1', 3000, 'expensive'),\n",
       " ('Massage Room 2', 3000, 'expensive'),\n",
       " ('Tennis Court 1', 200, 'expensive'),\n",
       " ('Tennis Court 2', 200, 'expensive'),\n",
       " ('Squash Court', 80, 'cheap'),\n",
       " ('Badminton Court', 50, 'cheap'),\n",
       " ('Snooker Table', 15, 'cheap'),\n",
       " ('Pool Table', 15, 'cheap'),\n",
       " ('Table Tennis', 10, 'cheap')]"
      ]
     },
     "execution_count": 84,
     "metadata": {},
     "output_type": "execute_result"
    }
   ],
   "source": [
    "%%sql\n",
    "SELECT name, monthlymaintenance, ( CASE\n",
    "\t\tWHEN monthlymaintenance > 100 THEN 'expensive'\n",
    "\t\tELSE 'cheap'\n",
    "     END ) AS label\n",
    "FROM Facilities\n",
    "ORDER BY monthlymaintenance desc"
   ]
  },
  {
   "cell_type": "markdown",
   "metadata": {},
   "source": [
    "However, it could also be changing just the column 'name' using as."
   ]
  },
  {
   "cell_type": "code",
   "execution_count": 87,
   "metadata": {},
   "outputs": [
    {
     "name": "stdout",
     "output_type": "stream",
     "text": [
      " * sqlite:///sqlite_db_pythonsqlite.db\n",
      "Done.\n"
     ]
    },
    {
     "data": {
      "text/html": [
       "<table>\n",
       "    <tr>\n",
       "        <th>expensive</th>\n",
       "        <th>monthlymaintenance</th>\n",
       "    </tr>\n",
       "    <tr>\n",
       "        <td>Massage Room 1</td>\n",
       "        <td>3000</td>\n",
       "    </tr>\n",
       "    <tr>\n",
       "        <td>Massage Room 2</td>\n",
       "        <td>3000</td>\n",
       "    </tr>\n",
       "    <tr>\n",
       "        <td>Tennis Court 1</td>\n",
       "        <td>200</td>\n",
       "    </tr>\n",
       "    <tr>\n",
       "        <td>Tennis Court 2</td>\n",
       "        <td>200</td>\n",
       "    </tr>\n",
       "</table>"
      ],
      "text/plain": [
       "[('Massage Room 1', 3000),\n",
       " ('Massage Room 2', 3000),\n",
       " ('Tennis Court 1', 200),\n",
       " ('Tennis Court 2', 200)]"
      ]
     },
     "execution_count": 87,
     "metadata": {},
     "output_type": "execute_result"
    }
   ],
   "source": [
    "%%sql\n",
    "SELECT name AS expensive, monthlymaintenance\n",
    "FROM Facilities AS f\n",
    "WHERE monthlymaintenance > 100\n",
    "ORDER BY monthlymaintenance desc"
   ]
  },
  {
   "cell_type": "code",
   "execution_count": 88,
   "metadata": {},
   "outputs": [
    {
     "name": "stdout",
     "output_type": "stream",
     "text": [
      " * sqlite:///sqlite_db_pythonsqlite.db\n",
      "Done.\n"
     ]
    },
    {
     "data": {
      "text/html": [
       "<table>\n",
       "    <tr>\n",
       "        <th>cheap</th>\n",
       "        <th>monthlymaintenance</th>\n",
       "    </tr>\n",
       "    <tr>\n",
       "        <td>Table Tennis</td>\n",
       "        <td>10</td>\n",
       "    </tr>\n",
       "    <tr>\n",
       "        <td>Snooker Table</td>\n",
       "        <td>15</td>\n",
       "    </tr>\n",
       "    <tr>\n",
       "        <td>Pool Table</td>\n",
       "        <td>15</td>\n",
       "    </tr>\n",
       "    <tr>\n",
       "        <td>Badminton Court</td>\n",
       "        <td>50</td>\n",
       "    </tr>\n",
       "    <tr>\n",
       "        <td>Squash Court</td>\n",
       "        <td>80</td>\n",
       "    </tr>\n",
       "</table>"
      ],
      "text/plain": [
       "[('Table Tennis', 10),\n",
       " ('Snooker Table', 15),\n",
       " ('Pool Table', 15),\n",
       " ('Badminton Court', 50),\n",
       " ('Squash Court', 80)]"
      ]
     },
     "execution_count": 88,
     "metadata": {},
     "output_type": "execute_result"
    }
   ],
   "source": [
    "%%sql\n",
    "SELECT name as cheap, monthlymaintenance\n",
    "FROM Facilities\n",
    "WHERE monthlymaintenance < 100\n",
    "ORDER BY monthlymaintenance"
   ]
  },
  {
   "cell_type": "markdown",
   "metadata": {},
   "source": [
    "Q6: You'd like to get the first and last name of the last member(s)\n",
    "who signed up. Try not to use the LIMIT clause for your solution."
   ]
  },
  {
   "cell_type": "code",
   "execution_count": 90,
   "metadata": {},
   "outputs": [
    {
     "name": "stdout",
     "output_type": "stream",
     "text": [
      " * sqlite:///sqlite_db_pythonsqlite.db\n",
      "Done.\n"
     ]
    },
    {
     "data": {
      "text/html": [
       "<table>\n",
       "    <tr>\n",
       "        <th>firstname</th>\n",
       "        <th>surname</th>\n",
       "    </tr>\n",
       "    <tr>\n",
       "        <td>Darren</td>\n",
       "        <td>Smith</td>\n",
       "    </tr>\n",
       "</table>"
      ],
      "text/plain": [
       "[('Darren', 'Smith')]"
      ]
     },
     "execution_count": 90,
     "metadata": {},
     "output_type": "execute_result"
    }
   ],
   "source": [
    "%%sql\n",
    "SELECT firstname, surname\n",
    "FROM Members\n",
    "WHERE joindate = (\n",
    "    SELECT MAX(joindate)\n",
    "    FROM Members\n",
    "    )"
   ]
  },
  {
   "cell_type": "markdown",
   "metadata": {},
   "source": [
    "Darren Smith (there are multiple) on 2012-09-26 18:08:45.\n",
    "\n",
    "Simpler to do with limit."
   ]
  },
  {
   "cell_type": "code",
   "execution_count": 91,
   "metadata": {},
   "outputs": [
    {
     "name": "stdout",
     "output_type": "stream",
     "text": [
      " * sqlite:///sqlite_db_pythonsqlite.db\n",
      "Done.\n"
     ]
    },
    {
     "data": {
      "text/html": [
       "<table>\n",
       "    <tr>\n",
       "        <th>firstname</th>\n",
       "        <th>surname</th>\n",
       "    </tr>\n",
       "    <tr>\n",
       "        <td>Darren</td>\n",
       "        <td>Smith</td>\n",
       "    </tr>\n",
       "</table>"
      ],
      "text/plain": [
       "[('Darren', 'Smith')]"
      ]
     },
     "execution_count": 91,
     "metadata": {},
     "output_type": "execute_result"
    }
   ],
   "source": [
    "%%sql\n",
    "SELECT firstname, surname\n",
    "FROM Members\n",
    "ORDER BY joindate desc\n",
    "LIMIT 1"
   ]
  },
  {
   "cell_type": "markdown",
   "metadata": {},
   "source": [
    "Q7: Produce a list of all members who have used a tennis court.\n",
    "Include in your output the name of the court, and the name of the member\n",
    "formatted as a single column. Ensure no duplicate data, and order by\n",
    "the member name.\n",
    "\n",
    "46 records. Some of the names are duplicated because they played on both tennis courts."
   ]
  },
  {
   "cell_type": "code",
   "execution_count": 93,
   "metadata": {},
   "outputs": [
    {
     "name": "stdout",
     "output_type": "stream",
     "text": [
      " * sqlite:///sqlite_db_pythonsqlite.db\n",
      "Done.\n"
     ]
    },
    {
     "data": {
      "text/html": [
       "<table>\n",
       "    <tr>\n",
       "        <th>fullname</th>\n",
       "        <th>name</th>\n",
       "    </tr>\n",
       "    <tr>\n",
       "        <td>Anne Baker</td>\n",
       "        <td>Tennis Court 1</td>\n",
       "    </tr>\n",
       "    <tr>\n",
       "        <td>Anne Baker</td>\n",
       "        <td>Tennis Court 2</td>\n",
       "    </tr>\n",
       "    <tr>\n",
       "        <td>Burton Tracy</td>\n",
       "        <td>Tennis Court 2</td>\n",
       "    </tr>\n",
       "    <tr>\n",
       "        <td>Burton Tracy</td>\n",
       "        <td>Tennis Court 1</td>\n",
       "    </tr>\n",
       "    <tr>\n",
       "        <td>Charles Owen</td>\n",
       "        <td>Tennis Court 1</td>\n",
       "    </tr>\n",
       "    <tr>\n",
       "        <td>Charles Owen</td>\n",
       "        <td>Tennis Court 2</td>\n",
       "    </tr>\n",
       "    <tr>\n",
       "        <td>Darren Smith</td>\n",
       "        <td>Tennis Court 2</td>\n",
       "    </tr>\n",
       "    <tr>\n",
       "        <td>David Farrell</td>\n",
       "        <td>Tennis Court 1</td>\n",
       "    </tr>\n",
       "    <tr>\n",
       "        <td>David Farrell</td>\n",
       "        <td>Tennis Court 2</td>\n",
       "    </tr>\n",
       "    <tr>\n",
       "        <td>David Jones</td>\n",
       "        <td>Tennis Court 2</td>\n",
       "    </tr>\n",
       "    <tr>\n",
       "        <td>David Jones</td>\n",
       "        <td>Tennis Court 1</td>\n",
       "    </tr>\n",
       "    <tr>\n",
       "        <td>David Pinker</td>\n",
       "        <td>Tennis Court 1</td>\n",
       "    </tr>\n",
       "    <tr>\n",
       "        <td>Douglas Jones</td>\n",
       "        <td>Tennis Court 1</td>\n",
       "    </tr>\n",
       "    <tr>\n",
       "        <td>Erica Crumpet</td>\n",
       "        <td>Tennis Court 1</td>\n",
       "    </tr>\n",
       "    <tr>\n",
       "        <td>Florence Bader</td>\n",
       "        <td>Tennis Court 2</td>\n",
       "    </tr>\n",
       "    <tr>\n",
       "        <td>Florence Bader</td>\n",
       "        <td>Tennis Court 1</td>\n",
       "    </tr>\n",
       "    <tr>\n",
       "        <td>GUEST GUEST</td>\n",
       "        <td>Tennis Court 2</td>\n",
       "    </tr>\n",
       "    <tr>\n",
       "        <td>GUEST GUEST</td>\n",
       "        <td>Tennis Court 1</td>\n",
       "    </tr>\n",
       "    <tr>\n",
       "        <td>Gerald Butters</td>\n",
       "        <td>Tennis Court 1</td>\n",
       "    </tr>\n",
       "    <tr>\n",
       "        <td>Gerald Butters</td>\n",
       "        <td>Tennis Court 2</td>\n",
       "    </tr>\n",
       "    <tr>\n",
       "        <td>Henrietta Rumney</td>\n",
       "        <td>Tennis Court 2</td>\n",
       "    </tr>\n",
       "    <tr>\n",
       "        <td>Jack Smith</td>\n",
       "        <td>Tennis Court 1</td>\n",
       "    </tr>\n",
       "    <tr>\n",
       "        <td>Jack Smith</td>\n",
       "        <td>Tennis Court 2</td>\n",
       "    </tr>\n",
       "    <tr>\n",
       "        <td>Janice Joplette</td>\n",
       "        <td>Tennis Court 1</td>\n",
       "    </tr>\n",
       "    <tr>\n",
       "        <td>Janice Joplette</td>\n",
       "        <td>Tennis Court 2</td>\n",
       "    </tr>\n",
       "    <tr>\n",
       "        <td>Jemima Farrell</td>\n",
       "        <td>Tennis Court 2</td>\n",
       "    </tr>\n",
       "    <tr>\n",
       "        <td>Jemima Farrell</td>\n",
       "        <td>Tennis Court 1</td>\n",
       "    </tr>\n",
       "    <tr>\n",
       "        <td>Joan Coplin</td>\n",
       "        <td>Tennis Court 1</td>\n",
       "    </tr>\n",
       "    <tr>\n",
       "        <td>John Hunt</td>\n",
       "        <td>Tennis Court 1</td>\n",
       "    </tr>\n",
       "    <tr>\n",
       "        <td>John Hunt</td>\n",
       "        <td>Tennis Court 2</td>\n",
       "    </tr>\n",
       "    <tr>\n",
       "        <td>Matthew Genting</td>\n",
       "        <td>Tennis Court 1</td>\n",
       "    </tr>\n",
       "    <tr>\n",
       "        <td>Millicent Purview</td>\n",
       "        <td>Tennis Court 2</td>\n",
       "    </tr>\n",
       "    <tr>\n",
       "        <td>Nancy Dare</td>\n",
       "        <td>Tennis Court 2</td>\n",
       "    </tr>\n",
       "    <tr>\n",
       "        <td>Nancy Dare</td>\n",
       "        <td>Tennis Court 1</td>\n",
       "    </tr>\n",
       "    <tr>\n",
       "        <td>Ponder Stibbons</td>\n",
       "        <td>Tennis Court 2</td>\n",
       "    </tr>\n",
       "    <tr>\n",
       "        <td>Ponder Stibbons</td>\n",
       "        <td>Tennis Court 1</td>\n",
       "    </tr>\n",
       "    <tr>\n",
       "        <td>Ramnaresh Sarwin</td>\n",
       "        <td>Tennis Court 2</td>\n",
       "    </tr>\n",
       "    <tr>\n",
       "        <td>Ramnaresh Sarwin</td>\n",
       "        <td>Tennis Court 1</td>\n",
       "    </tr>\n",
       "    <tr>\n",
       "        <td>Tim Boothe</td>\n",
       "        <td>Tennis Court 2</td>\n",
       "    </tr>\n",
       "    <tr>\n",
       "        <td>Tim Boothe</td>\n",
       "        <td>Tennis Court 1</td>\n",
       "    </tr>\n",
       "    <tr>\n",
       "        <td>Tim Rownam</td>\n",
       "        <td>Tennis Court 2</td>\n",
       "    </tr>\n",
       "    <tr>\n",
       "        <td>Tim Rownam</td>\n",
       "        <td>Tennis Court 1</td>\n",
       "    </tr>\n",
       "    <tr>\n",
       "        <td>Timothy Baker</td>\n",
       "        <td>Tennis Court 2</td>\n",
       "    </tr>\n",
       "    <tr>\n",
       "        <td>Timothy Baker</td>\n",
       "        <td>Tennis Court 1</td>\n",
       "    </tr>\n",
       "    <tr>\n",
       "        <td>Tracy Smith</td>\n",
       "        <td>Tennis Court 1</td>\n",
       "    </tr>\n",
       "    <tr>\n",
       "        <td>Tracy Smith</td>\n",
       "        <td>Tennis Court 2</td>\n",
       "    </tr>\n",
       "</table>"
      ],
      "text/plain": [
       "[('Anne Baker', 'Tennis Court 1'),\n",
       " ('Anne Baker', 'Tennis Court 2'),\n",
       " ('Burton Tracy', 'Tennis Court 2'),\n",
       " ('Burton Tracy', 'Tennis Court 1'),\n",
       " ('Charles Owen', 'Tennis Court 1'),\n",
       " ('Charles Owen', 'Tennis Court 2'),\n",
       " ('Darren Smith', 'Tennis Court 2'),\n",
       " ('David Farrell', 'Tennis Court 1'),\n",
       " ('David Farrell', 'Tennis Court 2'),\n",
       " ('David Jones', 'Tennis Court 2'),\n",
       " ('David Jones', 'Tennis Court 1'),\n",
       " ('David Pinker', 'Tennis Court 1'),\n",
       " ('Douglas Jones', 'Tennis Court 1'),\n",
       " ('Erica Crumpet', 'Tennis Court 1'),\n",
       " ('Florence Bader', 'Tennis Court 2'),\n",
       " ('Florence Bader', 'Tennis Court 1'),\n",
       " ('GUEST GUEST', 'Tennis Court 2'),\n",
       " ('GUEST GUEST', 'Tennis Court 1'),\n",
       " ('Gerald Butters', 'Tennis Court 1'),\n",
       " ('Gerald Butters', 'Tennis Court 2'),\n",
       " ('Henrietta Rumney', 'Tennis Court 2'),\n",
       " ('Jack Smith', 'Tennis Court 1'),\n",
       " ('Jack Smith', 'Tennis Court 2'),\n",
       " ('Janice Joplette', 'Tennis Court 1'),\n",
       " ('Janice Joplette', 'Tennis Court 2'),\n",
       " ('Jemima Farrell', 'Tennis Court 2'),\n",
       " ('Jemima Farrell', 'Tennis Court 1'),\n",
       " ('Joan Coplin', 'Tennis Court 1'),\n",
       " ('John Hunt', 'Tennis Court 1'),\n",
       " ('John Hunt', 'Tennis Court 2'),\n",
       " ('Matthew Genting', 'Tennis Court 1'),\n",
       " ('Millicent Purview', 'Tennis Court 2'),\n",
       " ('Nancy Dare', 'Tennis Court 2'),\n",
       " ('Nancy Dare', 'Tennis Court 1'),\n",
       " ('Ponder Stibbons', 'Tennis Court 2'),\n",
       " ('Ponder Stibbons', 'Tennis Court 1'),\n",
       " ('Ramnaresh Sarwin', 'Tennis Court 2'),\n",
       " ('Ramnaresh Sarwin', 'Tennis Court 1'),\n",
       " ('Tim Boothe', 'Tennis Court 2'),\n",
       " ('Tim Boothe', 'Tennis Court 1'),\n",
       " ('Tim Rownam', 'Tennis Court 2'),\n",
       " ('Tim Rownam', 'Tennis Court 1'),\n",
       " ('Timothy Baker', 'Tennis Court 2'),\n",
       " ('Timothy Baker', 'Tennis Court 1'),\n",
       " ('Tracy Smith', 'Tennis Court 1'),\n",
       " ('Tracy Smith', 'Tennis Court 2')]"
      ]
     },
     "execution_count": 93,
     "metadata": {},
     "output_type": "execute_result"
    }
   ],
   "source": [
    "%%sql\n",
    "SELECT DISTINCT m.firstname || ' ' || m.surname AS fullname, f.name\n",
    "FROM Members AS m\n",
    "JOIN Bookings AS b ON b.memid = m.memid\n",
    "JOIN Facilities AS f ON b.facid = f.facid\n",
    "WHERE f.facid\n",
    "IN (\n",
    "    SELECT facid\n",
    "\tFROM Facilities\n",
    "\tWHERE name LIKE '%tennis court%'\n",
    ")\n",
    "ORDER BY fullname"
   ]
  },
  {
   "cell_type": "markdown",
   "metadata": {},
   "source": [
    "/* Q8: Produce a list of bookings on the day of 2012-09-14 which\n",
    "will cost the member (or guest) more than $30. Remember that guests have\n",
    "different costs to members (the listed costs are per half-hour 'slot'), and\n",
    "the guest user's ID is always 0. Include in your output the name of the\n",
    "facility, the name of the member formatted as a single column, and the cost.\n",
    "Order by descending cost, and do not use any subqueries. */"
   ]
  },
  {
   "cell_type": "code",
   "execution_count": 96,
   "metadata": {},
   "outputs": [
    {
     "name": "stdout",
     "output_type": "stream",
     "text": [
      " * sqlite:///sqlite_db_pythonsqlite.db\n",
      "Done.\n"
     ]
    },
    {
     "data": {
      "text/html": [
       "<table>\n",
       "    <tr>\n",
       "        <th>name</th>\n",
       "        <th>fullname</th>\n",
       "        <th>cost</th>\n",
       "    </tr>\n",
       "    <tr>\n",
       "        <td>Massage Room 2</td>\n",
       "        <td>GUEST GUEST</td>\n",
       "        <td>320</td>\n",
       "    </tr>\n",
       "    <tr>\n",
       "        <td>Massage Room 1</td>\n",
       "        <td>GUEST GUEST</td>\n",
       "        <td>160</td>\n",
       "    </tr>\n",
       "    <tr>\n",
       "        <td>Tennis Court 2</td>\n",
       "        <td>GUEST GUEST</td>\n",
       "        <td>150</td>\n",
       "    </tr>\n",
       "    <tr>\n",
       "        <td>Tennis Court 1</td>\n",
       "        <td>GUEST GUEST</td>\n",
       "        <td>75</td>\n",
       "    </tr>\n",
       "    <tr>\n",
       "        <td>Tennis Court 2</td>\n",
       "        <td>GUEST GUEST</td>\n",
       "        <td>75</td>\n",
       "    </tr>\n",
       "    <tr>\n",
       "        <td>Squash Court</td>\n",
       "        <td>GUEST GUEST</td>\n",
       "        <td>70.0</td>\n",
       "    </tr>\n",
       "    <tr>\n",
       "        <td>Tennis Court 1</td>\n",
       "        <td>Nancy Dare</td>\n",
       "        <td>45</td>\n",
       "    </tr>\n",
       "    <tr>\n",
       "        <td>Tennis Court 2</td>\n",
       "        <td>Tim Boothe</td>\n",
       "        <td>45</td>\n",
       "    </tr>\n",
       "    <tr>\n",
       "        <td>Massage Room 1</td>\n",
       "        <td>Tim Rownam</td>\n",
       "        <td>39.6</td>\n",
       "    </tr>\n",
       "    <tr>\n",
       "        <td>Massage Room 1</td>\n",
       "        <td>Gerald Butters</td>\n",
       "        <td>39.6</td>\n",
       "    </tr>\n",
       "    <tr>\n",
       "        <td>Massage Room 1</td>\n",
       "        <td>Darren Smith</td>\n",
       "        <td>39.6</td>\n",
       "    </tr>\n",
       "    <tr>\n",
       "        <td>Massage Room 1</td>\n",
       "        <td>Tim Boothe</td>\n",
       "        <td>39.6</td>\n",
       "    </tr>\n",
       "    <tr>\n",
       "        <td>Massage Room 1</td>\n",
       "        <td>Ponder Stibbons</td>\n",
       "        <td>39.6</td>\n",
       "    </tr>\n",
       "    <tr>\n",
       "        <td>Massage Room 1</td>\n",
       "        <td>Jemima Farrell</td>\n",
       "        <td>39.6</td>\n",
       "    </tr>\n",
       "    <tr>\n",
       "        <td>Massage Room 1</td>\n",
       "        <td>David Jones</td>\n",
       "        <td>39.6</td>\n",
       "    </tr>\n",
       "    <tr>\n",
       "        <td>Massage Room 1</td>\n",
       "        <td>Timothy Baker</td>\n",
       "        <td>39.6</td>\n",
       "    </tr>\n",
       "    <tr>\n",
       "        <td>Massage Room 1</td>\n",
       "        <td>Matthew Genting</td>\n",
       "        <td>39.6</td>\n",
       "    </tr>\n",
       "    <tr>\n",
       "        <td>Squash Court</td>\n",
       "        <td>GUEST GUEST</td>\n",
       "        <td>35.0</td>\n",
       "    </tr>\n",
       "</table>"
      ],
      "text/plain": [
       "[('Massage Room 2', 'GUEST GUEST', 320),\n",
       " ('Massage Room 1', 'GUEST GUEST', 160),\n",
       " ('Tennis Court 2', 'GUEST GUEST', 150),\n",
       " ('Tennis Court 1', 'GUEST GUEST', 75),\n",
       " ('Tennis Court 2', 'GUEST GUEST', 75),\n",
       " ('Squash Court', 'GUEST GUEST', 70.0),\n",
       " ('Tennis Court 1', 'Nancy Dare', 45),\n",
       " ('Tennis Court 2', 'Tim Boothe', 45),\n",
       " ('Massage Room 1', 'Tim Rownam', 39.6),\n",
       " ('Massage Room 1', 'Gerald Butters', 39.6),\n",
       " ('Massage Room 1', 'Darren Smith', 39.6),\n",
       " ('Massage Room 1', 'Tim Boothe', 39.6),\n",
       " ('Massage Room 1', 'Ponder Stibbons', 39.6),\n",
       " ('Massage Room 1', 'Jemima Farrell', 39.6),\n",
       " ('Massage Room 1', 'David Jones', 39.6),\n",
       " ('Massage Room 1', 'Timothy Baker', 39.6),\n",
       " ('Massage Room 1', 'Matthew Genting', 39.6),\n",
       " ('Squash Court', 'GUEST GUEST', 35.0)]"
      ]
     },
     "execution_count": 96,
     "metadata": {},
     "output_type": "execute_result"
    }
   ],
   "source": [
    "%%sql\n",
    "SELECT DISTINCT \n",
    "\tf.name, \n",
    "\tm.firstname || ' ' || m.surname AS fullname, \n",
    "\t( CASE\n",
    "\t\tWHEN m.memid = 0 THEN (f.guestcost * b.slots)\n",
    "\t\tELSE (f.membercost * b.slots)\n",
    "     END ) AS cost\n",
    "FROM Members AS m\n",
    "JOIN Bookings AS b ON b.memid = m.memid\n",
    "JOIN Facilities AS f ON b.facid = f.facid\n",
    "WHERE \n",
    "    b.starttime BETWEEN '2012-09-14 00:00:00' AND '2012-09-14 23:59:59'\n",
    "\t\tAND \n",
    "\t\t    m.memid = 0 AND (f.guestcost * b.slots) > 30\n",
    "\t\tOR\n",
    "\t\t    m.memid != 0 AND (f.membercost * b.slots) > 30\n",
    "ORDER BY cost DESC"
   ]
  },
  {
   "cell_type": "markdown",
   "metadata": {},
   "source": [
    "Q9: This time, produce the same result as in Q8, but using a subquery.\n",
    "\n",
    "While I was building this sql.springboard became unavailable.  \n",
    "Think it will be similar to the below and the performance will be very slow."
   ]
  },
  {
   "cell_type": "code",
   "execution_count": null,
   "metadata": {},
   "outputs": [
    {
     "name": "stdout",
     "output_type": "stream",
     "text": [
      " * sqlite:///sqlite_db_pythonsqlite.db\n"
     ]
    }
   ],
   "source": [
    "%%sql\n",
    "/*\n",
    "SELECT DISTINCT\n",
    "\tf.name,\n",
    "\tm.firstname || ' ' || m.surname AS fullname,\n",
    "\t( CASE\n",
    "\t\tWHEN m.memid = 0 THEN (f.guestcost * b.slots)\n",
    "\t\tELSE (f.membercost * b.slots)\n",
    "     END ) AS cost\n",
    "FROM Facilities AS f, Bookings AS b, Members AS m\n",
    "WHERE f.facid IN (\n",
    "    SELECT b.facid \n",
    "    FROM Bookings as b\n",
    "    WHERE \n",
    "\t\tb.starttime BETWEEN '2012-09-14 00:00:00' AND '2012-09-14 23:59:59'\n",
    "\t\tAND \n",
    "\t\t\tm.memid = 0 AND (f.guestcost * b.slots) > 30\n",
    "\t\t\tOR\n",
    "\t\t\tm.memid != 0 AND (f.membercost * b.slots) > 30\n",
    "\tAND\n",
    "\t\tb.facid IN (\n",
    "            SELECT m.memid\n",
    "            FROM Members AS m\n",
    "            WHERE b.memid = m.memid AND b.facid = f.facid\n",
    "        )\n",
    ")\n",
    "ORDER BY cost DESC\n",
    "*/"
   ]
  },
  {
   "cell_type": "markdown",
   "metadata": {},
   "source": [
    "Q10: Produce a list of facilities with a total revenue less than 1000.\n",
    "The output of facility name and total revenue, sorted by revenue. Remember\n",
    "that there's a different cost for guests and members!"
   ]
  },
  {
   "cell_type": "code",
   "execution_count": 30,
   "metadata": {},
   "outputs": [
    {
     "name": "stdout",
     "output_type": "stream",
     "text": [
      " * sqlite:///sqlite_db_pythonsqlite.db\n",
      "Done.\n"
     ]
    },
    {
     "data": {
      "text/html": [
       "<table>\n",
       "    <tr>\n",
       "        <th>name</th>\n",
       "        <th>revenue</th>\n",
       "    </tr>\n",
       "    <tr>\n",
       "        <td>Badminton Court</td>\n",
       "        <td>0</td>\n",
       "    </tr>\n",
       "    <tr>\n",
       "        <td>Pool Table</td>\n",
       "        <td>0</td>\n",
       "    </tr>\n",
       "    <tr>\n",
       "        <td>Snooker Table</td>\n",
       "        <td>0</td>\n",
       "    </tr>\n",
       "    <tr>\n",
       "        <td>Table Tennis</td>\n",
       "        <td>0</td>\n",
       "    </tr>\n",
       "</table>"
      ],
      "text/plain": [
       "[('Badminton Court', 0),\n",
       " ('Pool Table', 0),\n",
       " ('Snooker Table', 0),\n",
       " ('Table Tennis', 0)]"
      ]
     },
     "execution_count": 30,
     "metadata": {},
     "output_type": "execute_result"
    }
   ],
   "source": [
    "%%sql\n",
    "SELECT \n",
    "    f.name,\n",
    "    ( CASE\n",
    "\t\tWHEN m.memid = 0 THEN SUM((f.guestcost * b.slots))\n",
    "\t\tELSE SUM((f.membercost * b.slots))\n",
    "     END ) AS revenue\n",
    "FROM Members as m\n",
    "JOIN Bookings AS b ON b.memid = m.memid\n",
    "JOIN Facilities AS f ON b.facid = f.facid\n",
    "GROUP BY f.name\n",
    "HAVING revenue < 1000\n",
    "ORDER BY revenue;"
   ]
  },
  {
   "cell_type": "markdown",
   "metadata": {},
   "source": [
    "Q11: Produce a report of members and who recommended them in alphabetic surname,firstname order.\n",
    "\n",
    "TODO: Add the recommendedby full name."
   ]
  },
  {
   "cell_type": "code",
   "execution_count": 20,
   "metadata": {},
   "outputs": [
    {
     "name": "stdout",
     "output_type": "stream",
     "text": [
      " * sqlite:///sqlite_db_pythonsqlite.db\n",
      "Done.\n"
     ]
    },
    {
     "data": {
      "text/html": [
       "<table>\n",
       "    <tr>\n",
       "        <th>fullname</th>\n",
       "        <th>recommendedby</th>\n",
       "    </tr>\n",
       "    <tr>\n",
       "        <td>Bader, Florence</td>\n",
       "        <td>9</td>\n",
       "    </tr>\n",
       "    <tr>\n",
       "        <td>Baker, Anne</td>\n",
       "        <td>9</td>\n",
       "    </tr>\n",
       "    <tr>\n",
       "        <td>Baker, Timothy</td>\n",
       "        <td>13</td>\n",
       "    </tr>\n",
       "    <tr>\n",
       "        <td>Boothe, Tim</td>\n",
       "        <td>3</td>\n",
       "    </tr>\n",
       "    <tr>\n",
       "        <td>Butters, Gerald</td>\n",
       "        <td>1</td>\n",
       "    </tr>\n",
       "    <tr>\n",
       "        <td>Coplin, Joan</td>\n",
       "        <td>16</td>\n",
       "    </tr>\n",
       "    <tr>\n",
       "        <td>Crumpet, Erica</td>\n",
       "        <td>2</td>\n",
       "    </tr>\n",
       "    <tr>\n",
       "        <td>Dare, Nancy</td>\n",
       "        <td>4</td>\n",
       "    </tr>\n",
       "    <tr>\n",
       "        <td>Farrell, David</td>\n",
       "        <td></td>\n",
       "    </tr>\n",
       "    <tr>\n",
       "        <td>Farrell, Jemima</td>\n",
       "        <td></td>\n",
       "    </tr>\n",
       "    <tr>\n",
       "        <td>GUEST, GUEST</td>\n",
       "        <td></td>\n",
       "    </tr>\n",
       "    <tr>\n",
       "        <td>Genting, Matthew</td>\n",
       "        <td>5</td>\n",
       "    </tr>\n",
       "    <tr>\n",
       "        <td>Hunt, John</td>\n",
       "        <td>30</td>\n",
       "    </tr>\n",
       "    <tr>\n",
       "        <td>Jones, David</td>\n",
       "        <td>4</td>\n",
       "    </tr>\n",
       "    <tr>\n",
       "        <td>Jones, Douglas</td>\n",
       "        <td>11</td>\n",
       "    </tr>\n",
       "    <tr>\n",
       "        <td>Joplette, Janice</td>\n",
       "        <td>1</td>\n",
       "    </tr>\n",
       "    <tr>\n",
       "        <td>Mackenzie, Anna</td>\n",
       "        <td>1</td>\n",
       "    </tr>\n",
       "    <tr>\n",
       "        <td>Owen, Charles</td>\n",
       "        <td>1</td>\n",
       "    </tr>\n",
       "    <tr>\n",
       "        <td>Pinker, David</td>\n",
       "        <td>13</td>\n",
       "    </tr>\n",
       "    <tr>\n",
       "        <td>Purview, Millicent</td>\n",
       "        <td>2</td>\n",
       "    </tr>\n",
       "    <tr>\n",
       "        <td>Rownam, Tim</td>\n",
       "        <td></td>\n",
       "    </tr>\n",
       "    <tr>\n",
       "        <td>Rumney, Henrietta</td>\n",
       "        <td>20</td>\n",
       "    </tr>\n",
       "    <tr>\n",
       "        <td>Sarwin, Ramnaresh</td>\n",
       "        <td>15</td>\n",
       "    </tr>\n",
       "    <tr>\n",
       "        <td>Smith, Darren</td>\n",
       "        <td></td>\n",
       "    </tr>\n",
       "    <tr>\n",
       "        <td>Smith, Darren</td>\n",
       "        <td></td>\n",
       "    </tr>\n",
       "    <tr>\n",
       "        <td>Smith, Jack</td>\n",
       "        <td>1</td>\n",
       "    </tr>\n",
       "    <tr>\n",
       "        <td>Smith, Tracy</td>\n",
       "        <td></td>\n",
       "    </tr>\n",
       "    <tr>\n",
       "        <td>Stibbons, Ponder</td>\n",
       "        <td>6</td>\n",
       "    </tr>\n",
       "    <tr>\n",
       "        <td>Tracy, Burton</td>\n",
       "        <td></td>\n",
       "    </tr>\n",
       "    <tr>\n",
       "        <td>Tupperware, Hyacinth</td>\n",
       "        <td></td>\n",
       "    </tr>\n",
       "    <tr>\n",
       "        <td>Worthington-Smyth, Henry</td>\n",
       "        <td>2</td>\n",
       "    </tr>\n",
       "</table>"
      ],
      "text/plain": [
       "[('Bader, Florence', '9'),\n",
       " ('Baker, Anne', '9'),\n",
       " ('Baker, Timothy', '13'),\n",
       " ('Boothe, Tim', '3'),\n",
       " ('Butters, Gerald', '1'),\n",
       " ('Coplin, Joan', '16'),\n",
       " ('Crumpet, Erica', '2'),\n",
       " ('Dare, Nancy', '4'),\n",
       " ('Farrell, David', ''),\n",
       " ('Farrell, Jemima', ''),\n",
       " ('GUEST, GUEST', ''),\n",
       " ('Genting, Matthew', '5'),\n",
       " ('Hunt, John', '30'),\n",
       " ('Jones, David', '4'),\n",
       " ('Jones, Douglas', '11'),\n",
       " ('Joplette, Janice', '1'),\n",
       " ('Mackenzie, Anna', '1'),\n",
       " ('Owen, Charles', '1'),\n",
       " ('Pinker, David', '13'),\n",
       " ('Purview, Millicent', '2'),\n",
       " ('Rownam, Tim', ''),\n",
       " ('Rumney, Henrietta', '20'),\n",
       " ('Sarwin, Ramnaresh', '15'),\n",
       " ('Smith, Darren', ''),\n",
       " ('Smith, Darren', ''),\n",
       " ('Smith, Jack', '1'),\n",
       " ('Smith, Tracy', ''),\n",
       " ('Stibbons, Ponder', '6'),\n",
       " ('Tracy, Burton', ''),\n",
       " ('Tupperware, Hyacinth', ''),\n",
       " ('Worthington-Smyth, Henry', '2')]"
      ]
     },
     "execution_count": 20,
     "metadata": {},
     "output_type": "execute_result"
    }
   ],
   "source": [
    "%%sql\n",
    "SELECT \n",
    "    surname || ', ' || firstname  AS fullname,\n",
    "    recommendedby\n",
    "FROM Members\n",
    "ORDER BY fullname;"
   ]
  },
  {
   "cell_type": "code",
   "execution_count": 23,
   "metadata": {},
   "outputs": [
    {
     "name": "stdout",
     "output_type": "stream",
     "text": [
      " * sqlite:///sqlite_db_pythonsqlite.db\n",
      "Done.\n"
     ]
    },
    {
     "data": {
      "text/html": [
       "<table>\n",
       "    <tr>\n",
       "        <th>fullname</th>\n",
       "        <th>recommendedby</th>\n",
       "    </tr>\n",
       "    <tr>\n",
       "        <td>Bader, Florence</td>\n",
       "        <td>9</td>\n",
       "    </tr>\n",
       "    <tr>\n",
       "        <td>Baker, Anne</td>\n",
       "        <td>9</td>\n",
       "    </tr>\n",
       "    <tr>\n",
       "        <td>Baker, Timothy</td>\n",
       "        <td>13</td>\n",
       "    </tr>\n",
       "    <tr>\n",
       "        <td>Boothe, Tim</td>\n",
       "        <td>3</td>\n",
       "    </tr>\n",
       "    <tr>\n",
       "        <td>Butters, Gerald</td>\n",
       "        <td>1</td>\n",
       "    </tr>\n",
       "    <tr>\n",
       "        <td>Coplin, Joan</td>\n",
       "        <td>16</td>\n",
       "    </tr>\n",
       "    <tr>\n",
       "        <td>Crumpet, Erica</td>\n",
       "        <td>2</td>\n",
       "    </tr>\n",
       "    <tr>\n",
       "        <td>Dare, Nancy</td>\n",
       "        <td>4</td>\n",
       "    </tr>\n",
       "    <tr>\n",
       "        <td>Genting, Matthew</td>\n",
       "        <td>5</td>\n",
       "    </tr>\n",
       "    <tr>\n",
       "        <td>Hunt, John</td>\n",
       "        <td>30</td>\n",
       "    </tr>\n",
       "    <tr>\n",
       "        <td>Jones, David</td>\n",
       "        <td>4</td>\n",
       "    </tr>\n",
       "    <tr>\n",
       "        <td>Jones, Douglas</td>\n",
       "        <td>11</td>\n",
       "    </tr>\n",
       "    <tr>\n",
       "        <td>Joplette, Janice</td>\n",
       "        <td>1</td>\n",
       "    </tr>\n",
       "    <tr>\n",
       "        <td>Mackenzie, Anna</td>\n",
       "        <td>1</td>\n",
       "    </tr>\n",
       "    <tr>\n",
       "        <td>Owen, Charles</td>\n",
       "        <td>1</td>\n",
       "    </tr>\n",
       "    <tr>\n",
       "        <td>Pinker, David</td>\n",
       "        <td>13</td>\n",
       "    </tr>\n",
       "    <tr>\n",
       "        <td>Purview, Millicent</td>\n",
       "        <td>2</td>\n",
       "    </tr>\n",
       "    <tr>\n",
       "        <td>Rumney, Henrietta</td>\n",
       "        <td>20</td>\n",
       "    </tr>\n",
       "    <tr>\n",
       "        <td>Sarwin, Ramnaresh</td>\n",
       "        <td>15</td>\n",
       "    </tr>\n",
       "    <tr>\n",
       "        <td>Smith, Jack</td>\n",
       "        <td>1</td>\n",
       "    </tr>\n",
       "    <tr>\n",
       "        <td>Stibbons, Ponder</td>\n",
       "        <td>6</td>\n",
       "    </tr>\n",
       "    <tr>\n",
       "        <td>Worthington-Smyth, Henry</td>\n",
       "        <td>2</td>\n",
       "    </tr>\n",
       "</table>"
      ],
      "text/plain": [
       "[('Bader, Florence', '9'),\n",
       " ('Baker, Anne', '9'),\n",
       " ('Baker, Timothy', '13'),\n",
       " ('Boothe, Tim', '3'),\n",
       " ('Butters, Gerald', '1'),\n",
       " ('Coplin, Joan', '16'),\n",
       " ('Crumpet, Erica', '2'),\n",
       " ('Dare, Nancy', '4'),\n",
       " ('Genting, Matthew', '5'),\n",
       " ('Hunt, John', '30'),\n",
       " ('Jones, David', '4'),\n",
       " ('Jones, Douglas', '11'),\n",
       " ('Joplette, Janice', '1'),\n",
       " ('Mackenzie, Anna', '1'),\n",
       " ('Owen, Charles', '1'),\n",
       " ('Pinker, David', '13'),\n",
       " ('Purview, Millicent', '2'),\n",
       " ('Rumney, Henrietta', '20'),\n",
       " ('Sarwin, Ramnaresh', '15'),\n",
       " ('Smith, Jack', '1'),\n",
       " ('Stibbons, Ponder', '6'),\n",
       " ('Worthington-Smyth, Henry', '2')]"
      ]
     },
     "execution_count": 23,
     "metadata": {},
     "output_type": "execute_result"
    }
   ],
   "source": [
    "%%sql\n",
    "SELECT \n",
    "    surname || ', ' || firstname  AS fullname,\n",
    "    recommendedby\n",
    "FROM Members\n",
    "WHERE recommendedby > 0\n",
    "ORDER BY fullname;"
   ]
  },
  {
   "cell_type": "markdown",
   "metadata": {},
   "source": [
    "Q12: Find the facilities with their usage by member, but not guests"
   ]
  },
  {
   "cell_type": "code",
   "execution_count": 46,
   "metadata": {},
   "outputs": [
    {
     "name": "stdout",
     "output_type": "stream",
     "text": [
      " * sqlite:///sqlite_db_pythonsqlite.db\n",
      "Done.\n"
     ]
    },
    {
     "data": {
      "text/html": [
       "<table>\n",
       "    <tr>\n",
       "        <th>name</th>\n",
       "        <th>use</th>\n",
       "    </tr>\n",
       "    <tr>\n",
       "        <td>Massage Room 2</td>\n",
       "        <td>0</td>\n",
       "    </tr>\n",
       "    <tr>\n",
       "        <td>Squash Court</td>\n",
       "        <td>0</td>\n",
       "    </tr>\n",
       "    <tr>\n",
       "        <td>Tennis Court 2</td>\n",
       "        <td>0</td>\n",
       "    </tr>\n",
       "    <tr>\n",
       "        <td>Table Tennis</td>\n",
       "        <td>830</td>\n",
       "    </tr>\n",
       "    <tr>\n",
       "        <td>Snooker Table</td>\n",
       "        <td>908</td>\n",
       "    </tr>\n",
       "    <tr>\n",
       "        <td>Pool Table</td>\n",
       "        <td>910</td>\n",
       "    </tr>\n",
       "    <tr>\n",
       "        <td>Badminton Court</td>\n",
       "        <td>1209</td>\n",
       "    </tr>\n",
       "    <tr>\n",
       "        <td>Tennis Court 1</td>\n",
       "        <td>1320</td>\n",
       "    </tr>\n",
       "    <tr>\n",
       "        <td>Massage Room 1</td>\n",
       "        <td>1404</td>\n",
       "    </tr>\n",
       "</table>"
      ],
      "text/plain": [
       "[('Massage Room 2', 0),\n",
       " ('Squash Court', 0),\n",
       " ('Tennis Court 2', 0),\n",
       " ('Table Tennis', 830),\n",
       " ('Snooker Table', 908),\n",
       " ('Pool Table', 910),\n",
       " ('Badminton Court', 1209),\n",
       " ('Tennis Court 1', 1320),\n",
       " ('Massage Room 1', 1404)]"
      ]
     },
     "execution_count": 46,
     "metadata": {},
     "output_type": "execute_result"
    }
   ],
   "source": [
    "%%sql\n",
    "SELECT \n",
    "    f.name,\n",
    "    ( CASE\n",
    "\t\tWHEN m.memid = 0 THEN 0\n",
    "\t\tELSE SUM(b.slots)\n",
    "     END ) AS use\n",
    "FROM Members as m\n",
    "JOIN Bookings AS b ON b.memid = m.memid\n",
    "JOIN Facilities AS f ON b.facid = f.facid\n",
    "GROUP BY f.name\n",
    "ORDER BY use;"
   ]
  },
  {
   "cell_type": "markdown",
   "metadata": {},
   "source": [
    "The results above looked off to me. \n",
    "Therefore, did different query to see what the bookings were just for guests, just for non-guests, and everyone.\n",
    "The results below show that the facilities with zeros above are exlusively used by guests."
   ]
  },
  {
   "cell_type": "code",
   "execution_count": 57,
   "metadata": {},
   "outputs": [
    {
     "name": "stdout",
     "output_type": "stream",
     "text": [
      " * sqlite:///sqlite_db_pythonsqlite.db\n",
      "Done.\n"
     ]
    },
    {
     "data": {
      "text/html": [
       "<table>\n",
       "    <tr>\n",
       "        <th>name</th>\n",
       "        <th>use</th>\n",
       "    </tr>\n",
       "    <tr>\n",
       "        <td>Massage Room 2</td>\n",
       "        <td>228</td>\n",
       "    </tr>\n",
       "    <tr>\n",
       "        <td>Squash Court</td>\n",
       "        <td>1104</td>\n",
       "    </tr>\n",
       "    <tr>\n",
       "        <td>Tennis Court 2</td>\n",
       "        <td>1278</td>\n",
       "    </tr>\n",
       "</table>"
      ],
      "text/plain": [
       "[('Massage Room 2', 228), ('Squash Court', 1104), ('Tennis Court 2', 1278)]"
      ]
     },
     "execution_count": 57,
     "metadata": {},
     "output_type": "execute_result"
    }
   ],
   "source": [
    "%%sql\n",
    "\n",
    "SELECT \n",
    "    f.name,\n",
    "    SUM(b.slots) AS use\n",
    "FROM Bookings as b\n",
    "JOIN Facilities AS f ON b.facid = f.facid\n",
    "GROUP BY f.name\n",
    "HAVING b.memid = 0\n",
    "ORDER BY use;"
   ]
  },
  {
   "cell_type": "markdown",
   "metadata": {},
   "source": [
    "Q13: Find the facilities usage by month, but not guests."
   ]
  },
  {
   "cell_type": "code",
   "execution_count": 74,
   "metadata": {},
   "outputs": [
    {
     "name": "stdout",
     "output_type": "stream",
     "text": [
      " * sqlite:///sqlite_db_pythonsqlite.db\n",
      "Done.\n"
     ]
    },
    {
     "data": {
      "text/html": [
       "<table>\n",
       "    <tr>\n",
       "        <th>name</th>\n",
       "        <th>use</th>\n",
       "        <th>year-month</th>\n",
       "    </tr>\n",
       "    <tr>\n",
       "        <td>Massage Room 1</td>\n",
       "        <td>648</td>\n",
       "        <td>2012-09</td>\n",
       "    </tr>\n",
       "    <tr>\n",
       "        <td>Badminton Court</td>\n",
       "        <td>570</td>\n",
       "        <td>2012-09</td>\n",
       "    </tr>\n",
       "    <tr>\n",
       "        <td>Massage Room 1</td>\n",
       "        <td>492</td>\n",
       "        <td>2012-08</td>\n",
       "    </tr>\n",
       "    <tr>\n",
       "        <td>Tennis Court 2</td>\n",
       "        <td>483</td>\n",
       "        <td>2012-08</td>\n",
       "    </tr>\n",
       "    <tr>\n",
       "        <td>Pool Table</td>\n",
       "        <td>471</td>\n",
       "        <td>2012-09</td>\n",
       "    </tr>\n",
       "    <tr>\n",
       "        <td>Badminton Court</td>\n",
       "        <td>459</td>\n",
       "        <td>2012-08</td>\n",
       "    </tr>\n",
       "    <tr>\n",
       "        <td>Tennis Court 1</td>\n",
       "        <td>459</td>\n",
       "        <td>2012-08</td>\n",
       "    </tr>\n",
       "    <tr>\n",
       "        <td>Snooker Table</td>\n",
       "        <td>426</td>\n",
       "        <td>2012-09</td>\n",
       "    </tr>\n",
       "    <tr>\n",
       "        <td>Table Tennis</td>\n",
       "        <td>422</td>\n",
       "        <td>2012-09</td>\n",
       "    </tr>\n",
       "    <tr>\n",
       "        <td>Snooker Table</td>\n",
       "        <td>326</td>\n",
       "        <td>2012-08</td>\n",
       "    </tr>\n",
       "    <tr>\n",
       "        <td>Pool Table</td>\n",
       "        <td>322</td>\n",
       "        <td>2012-08</td>\n",
       "    </tr>\n",
       "    <tr>\n",
       "        <td>Table Tennis</td>\n",
       "        <td>304</td>\n",
       "        <td>2012-08</td>\n",
       "    </tr>\n",
       "    <tr>\n",
       "        <td>Tennis Court 1</td>\n",
       "        <td>270</td>\n",
       "        <td>2012-07</td>\n",
       "    </tr>\n",
       "    <tr>\n",
       "        <td>Massage Room 1</td>\n",
       "        <td>264</td>\n",
       "        <td>2012-07</td>\n",
       "    </tr>\n",
       "    <tr>\n",
       "        <td>Badminton Court</td>\n",
       "        <td>180</td>\n",
       "        <td>2012-07</td>\n",
       "    </tr>\n",
       "    <tr>\n",
       "        <td>Snooker Table</td>\n",
       "        <td>156</td>\n",
       "        <td>2012-07</td>\n",
       "    </tr>\n",
       "    <tr>\n",
       "        <td>Pool Table</td>\n",
       "        <td>117</td>\n",
       "        <td>2012-07</td>\n",
       "    </tr>\n",
       "    <tr>\n",
       "        <td>Table Tennis</td>\n",
       "        <td>104</td>\n",
       "        <td>2012-07</td>\n",
       "    </tr>\n",
       "    <tr>\n",
       "        <td>Massage Room 2</td>\n",
       "        <td>82</td>\n",
       "        <td>2012-08</td>\n",
       "    </tr>\n",
       "</table>"
      ],
      "text/plain": [
       "[('Massage Room 1', 648, '2012-09'),\n",
       " ('Badminton Court', 570, '2012-09'),\n",
       " ('Massage Room 1', 492, '2012-08'),\n",
       " ('Tennis Court 2', 483, '2012-08'),\n",
       " ('Pool Table', 471, '2012-09'),\n",
       " ('Badminton Court', 459, '2012-08'),\n",
       " ('Tennis Court 1', 459, '2012-08'),\n",
       " ('Snooker Table', 426, '2012-09'),\n",
       " ('Table Tennis', 422, '2012-09'),\n",
       " ('Snooker Table', 326, '2012-08'),\n",
       " ('Pool Table', 322, '2012-08'),\n",
       " ('Table Tennis', 304, '2012-08'),\n",
       " ('Tennis Court 1', 270, '2012-07'),\n",
       " ('Massage Room 1', 264, '2012-07'),\n",
       " ('Badminton Court', 180, '2012-07'),\n",
       " ('Snooker Table', 156, '2012-07'),\n",
       " ('Pool Table', 117, '2012-07'),\n",
       " ('Table Tennis', 104, '2012-07'),\n",
       " ('Massage Room 2', 82, '2012-08')]"
      ]
     },
     "execution_count": 74,
     "metadata": {},
     "output_type": "execute_result"
    }
   ],
   "source": [
    "%%sql\n",
    "SELECT \n",
    "    f.name,\n",
    "    SUM(b.slots) AS use,\n",
    "    strftime(\"%Y-%m\", b.starttime) AS 'year-month'\n",
    "FROM Bookings as b\n",
    "JOIN Facilities AS f ON b.facid = f.facid\n",
    "GROUP BY f.name, strftime(\"%Y-%m\", b.starttime)\n",
    "HAVING b.memid != 0\n",
    "ORDER BY use desc"
   ]
  },
  {
   "cell_type": "code",
   "execution_count": 73,
   "metadata": {},
   "outputs": [
    {
     "name": "stdout",
     "output_type": "stream",
     "text": [
      " * sqlite:///sqlite_db_pythonsqlite.db\n",
      "Done.\n"
     ]
    },
    {
     "data": {
      "text/html": [
       "<table>\n",
       "    <tr>\n",
       "        <th>first_booking</th>\n",
       "        <th>last_booking</th>\n",
       "    </tr>\n",
       "    <tr>\n",
       "        <td>2012-07-03 08:00:00</td>\n",
       "        <td>2012-09-30 19:30:00</td>\n",
       "    </tr>\n",
       "</table>"
      ],
      "text/plain": [
       "[('2012-07-03 08:00:00', '2012-09-30 19:30:00')]"
      ]
     },
     "execution_count": 73,
     "metadata": {},
     "output_type": "execute_result"
    }
   ],
   "source": [
    "%%sql\n",
    "#The date ranges above all fall within the data's time period.\n",
    "\n",
    "SELECT \n",
    "    MIN(starttime) AS first_booking, \n",
    "    MAX(starttime) AS last_booking\n",
    "FROM Bookings"
   ]
  }
 ],
 "metadata": {
  "kernelspec": {
   "display_name": "Python 3",
   "language": "python",
   "name": "python3"
  },
  "language_info": {
   "codemirror_mode": {
    "name": "ipython",
    "version": 3
   },
   "file_extension": ".py",
   "mimetype": "text/x-python",
   "name": "python",
   "nbconvert_exporter": "python",
   "pygments_lexer": "ipython3",
   "version": "3.8.3"
  }
 },
 "nbformat": 4,
 "nbformat_minor": 1
}